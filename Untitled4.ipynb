{
 "cells": [
  {
   "cell_type": "code",
   "execution_count": 51,
   "id": "2ba69cb5-fa8b-4742-adbe-a679cbd0249d",
   "metadata": {},
   "outputs": [
    {
     "name": "stdout",
     "output_type": "stream",
     "text": [
      "ahmed\n",
      "mohamed\n",
      "adel\n",
      "The name is not found in the contact book\n"
     ]
    }
   ],
   "source": [
    "##Task 1: Create a Contact Book\n",
    "#1. Create a dictionary called contacts where:\n",
    "#o The keys are names of people (strings).\n",
    "#o The values are their phone numbers (strings).\n",
    "#2. Add three contacts to the dictionary.\n",
    "#3. Write a script to:\n",
    "#o Print all the names in the contact book.\n",
    "#o Allow the user to search for a contact by name and print the associated phone\n",
    "#number.\n",
    "\n",
    "###\n",
    "contacts = {\n",
    "    \"ahmed\" : \"01234567898\" ,\n",
    "    \"mohamed\"  :\"01111134501\" ,\n",
    "    \"adel\" : \"01146236677\"\n",
    "}\n",
    "for name in contacts:\n",
    "    print(name) \n",
    "\n",
    "search_name = (\"omer\")\n",
    "\n",
    "if search_name in contacts:\n",
    "    print(f\" {search_name}: {contacts[search_name]}\")\n",
    "else:\n",
    "    print(\"The name is not found in the contact book\" )\n",
    "\n",
    "################################\n"
   ]
  },
  {
   "cell_type": "code",
   "execution_count": 57,
   "id": "da79af7e-e3c1-4476-a666-b761473128e8",
   "metadata": {},
   "outputs": [
    {
     "name": "stdout",
     "output_type": "stream",
     "text": [
      "Ahmed: 81.67\n",
      "omer: 89.00\n",
      "adel: 70.00\n"
     ]
    }
   ],
   "source": [
    "#Task 2: Student Grades\n",
    "#1. Create a list of dictionaries where each dictionary represents a student with:\n",
    "#o A name key (string) for the student's name.\n",
    "#o A grades key (list of integers) for their grades in three subjects.\n",
    "#2. Write a script to:\n",
    "#o Calculate the average grade for each student.\n",
    "#o Print the name and average grade for each student.\n",
    "####################\n",
    "students = [\n",
    "    {\"name\": \"Ahmed\", \"grades\": [85, 90, 70]},\n",
    "    {\"name\": \"omer\", \"grades\": [92, 80, 95]},\n",
    "    {\"name\": \"adel\", \"grades\": [70, 60, 80]}\n",
    "]\n",
    "\n",
    "for student in students:\n",
    "    name = student[\"name\"]\n",
    "    grades = student[\"grades\"]\n",
    "    average = sum(grades) / len(grades)  \n",
    "    print(f\"{name}: {average:.2f}\") "
   ]
  },
  {
   "cell_type": "code",
   "execution_count": null,
   "id": "bb977b65-1dfd-433b-b367-cc147a25665d",
   "metadata": {},
   "outputs": [],
   "source": []
  }
 ],
 "metadata": {
  "kernelspec": {
   "display_name": "Python [conda env:base] *",
   "language": "python",
   "name": "conda-base-py"
  },
  "language_info": {
   "codemirror_mode": {
    "name": "ipython",
    "version": 3
   },
   "file_extension": ".py",
   "mimetype": "text/x-python",
   "name": "python",
   "nbconvert_exporter": "python",
   "pygments_lexer": "ipython3",
   "version": "3.12.7"
  }
 },
 "nbformat": 4,
 "nbformat_minor": 5
}
